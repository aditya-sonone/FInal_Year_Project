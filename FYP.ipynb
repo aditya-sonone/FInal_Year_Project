{
  "nbformat": 4,
  "nbformat_minor": 0,
  "metadata": {
    "colab": {
      "provenance": [],
      "gpuType": "T4",
      "authorship_tag": "ABX9TyOmMIfLc71QKNkOV5QL8hDs",
      "include_colab_link": true
    },
    "kernelspec": {
      "name": "python3",
      "display_name": "Python 3"
    },
    "language_info": {
      "name": "python"
    },
    "accelerator": "GPU"
  },
  "cells": [
    {
      "cell_type": "markdown",
      "metadata": {
        "id": "view-in-github",
        "colab_type": "text"
      },
      "source": [
        "<a href=\"https://colab.research.google.com/github/aditya-sonone/FInal_Year_Project/blob/main/FYP.ipynb\" target=\"_parent\"><img src=\"https://colab.research.google.com/assets/colab-badge.svg\" alt=\"Open In Colab\"/></a>"
      ]
    },
    {
      "cell_type": "code",
      "execution_count": 27,
      "metadata": {
        "colab": {
          "base_uri": "https://localhost:8080/"
        },
        "id": "oR2CfR2PfdV8",
        "outputId": "b13333b5-ed1f-4415-f2cc-8a8f87c15eb1"
      },
      "outputs": [
        {
          "output_type": "stream",
          "name": "stdout",
          "text": [
            "Archive:  /content/FYP.zip\n",
            "  inflating: content/fcc4c8a4-2177-4a08-a785-063497dfd121___RS_HL 5844_flipTB.JPG  \n",
            "  inflating: content/keras_model.h5  \n",
            "  inflating: content/labels.txt      \n",
            "   creating: content/templates/\n",
            "  inflating: content/templates/result.html  \n",
            "  inflating: content/templates/index.html  \n",
            "/content/content\n"
          ]
        }
      ],
      "source": [
        "!unzip /content/FYP.zip\n",
        "%cd /content/content"
      ]
    },
    {
      "cell_type": "code",
      "source": [
        "from keras.models import load_model  # TensorFlow is required for Keras to work\n",
        "from PIL import Image, ImageOps  # Install pillow instead of PIL\n",
        "import numpy as np\n",
        "\n",
        "# Disable scientific notation for clarity\n",
        "np.set_printoptions(suppress=True)\n",
        "\n",
        "# Load the model\n",
        "model = load_model(\"/content/content/keras_model.h5\", compile=False)\n",
        "\n",
        "# Load the labels\n",
        "class_names = open(\"/content/content/labels.txt\", \"r\").readlines()\n",
        "\n",
        "# Create the array of the right shape to feed into the keras model\n",
        "# The 'length' or number of images you can put into the array is\n",
        "# determined by the first position in the shape tuple, in this case 1\n",
        "data = np.ndarray(shape=(1, 224, 224, 3), dtype=np.float32)\n",
        "\n",
        "# Replace this with the path to your image\n",
        "image = Image.open(\"/content/content/fcc4c8a4-2177-4a08-a785-063497dfd121___RS_HL 5844_flipTB.JPG\").convert(\"RGB\")\n",
        "\n",
        "# resizing the image to be at least 224x224 and then cropping from the center\n",
        "size = (224, 224)\n",
        "image = ImageOps.fit(image, size, Image.Resampling.LANCZOS)\n",
        "\n",
        "# turn the image into a numpy array\n",
        "image_array = np.asarray(image)\n",
        "\n",
        "# Normalize the image\n",
        "normalized_image_array = (image_array.astype(np.float32) / 127.5) - 1\n",
        "\n",
        "# Load the image into the array\n",
        "data[0] = normalized_image_array\n",
        "\n",
        "# Predicts the model\n",
        "prediction = model.predict(data)\n",
        "index = np.argmax(prediction)\n",
        "class_name = class_names[index]\n",
        "confidence_score = prediction[0][index]\n",
        "\n",
        "# Print prediction and confidence score\n",
        "print(\"Class:\", class_name[2:], end=\"\")\n",
        "print(\"Confidence Score:\", confidence_score)"
      ],
      "metadata": {
        "colab": {
          "base_uri": "https://localhost:8080/"
        },
        "id": "LtwvC1znf_6L",
        "outputId": "cc20adf0-1788-49e8-b609-63a8ae1d90c0"
      },
      "execution_count": 28,
      "outputs": [
        {
          "output_type": "stream",
          "name": "stdout",
          "text": [
            "1/1 [==============================] - 1s 1s/step\n",
            "Class: Apple_Healthy\n",
            "Confidence Score: 0.9999547\n"
          ]
        }
      ]
    },
    {
      "cell_type": "code",
      "source": [
        "!pip install pyngrok\n",
        "from flask import Flask\n",
        "from pyngrok import ngrok\n",
        "port_no=5000"
      ],
      "metadata": {
        "colab": {
          "base_uri": "https://localhost:8080/"
        },
        "id": "vgV2Dee7gnom",
        "outputId": "6830a1ce-2b70-4373-f944-fd23ba3d8dae"
      },
      "execution_count": 29,
      "outputs": [
        {
          "output_type": "stream",
          "name": "stdout",
          "text": [
            "Requirement already satisfied: pyngrok in /usr/local/lib/python3.10/dist-packages (7.1.6)\n",
            "Requirement already satisfied: PyYAML>=5.1 in /usr/local/lib/python3.10/dist-packages (from pyngrok) (6.0.1)\n"
          ]
        }
      ]
    },
    {
      "cell_type": "code",
      "source": [
        "import os\n",
        "import sys\n",
        "from flask import Flask, render_template, request\n",
        "from keras.models import load_model\n",
        "from PIL import Image, ImageOps, ImageFile\n",
        "import numpy as np\n",
        "from werkzeug.utils import secure_filename\n",
        "from io import BytesIO\n",
        "import base64\n",
        "import io\n",
        "\n",
        "from pyngrok import ngrok\n",
        "\n",
        "app = Flask(__name__)\n",
        "model = load_model(\"keras_model.h5\", compile=False)\n",
        "\n",
        "class_names = open(\"labels.txt\", \"r\").readlines()\n",
        "\n",
        "fertilizer_contents = {\n",
        "    \"Apple_Apple_scab\": [\"Nitrogen\", \"Phosphorus\", \"Potassium\"],\n",
        "    \"Apple_Black_rot\": [\"Nitrogen\", \"Calcium\", \"Magnesium\"],\n",
        "    \"Apple_Cedar_apple_rust\": [\"Sulfur\", \"Copper\", \"Zinc\"],\n",
        "    \"Apple_Healthy\": [\"No fertilizer required\"],\n",
        "    \"Corn_Cercospora_leaf_spot Gray_leaf_spot\": [\"Nitrogen\", \"Potassium\", \"Magnesium\"],\n",
        "    \"Corn_Common_rust_\": [\"Nitrogen\", \"Sulfur\", \"Manganese\"],\n",
        "    \"Corn_Healthy\": [\"No fertilizer required\"],\n",
        "    \"Corn_Northern_Leaf_Blight\": [\"Nitrogen\", \"Potassium\", \"Zinc\"],\n",
        "    \"Potato_Early_blight\": [\"Nitrogen\", \"Phosphorus\", \"Potassium\"],\n",
        "    \"Potato_Healthy\": [\"No fertilizer required\"],\n",
        "    \"Potato_Late_blight\": [\"Nitrogen\", \"Phosphorus\", \"Potassium\"],\n",
        "    \"Tomato_Bacterial_spot\": [\"Nitrogen\", \"Calcium\", \"Magnesium\"],\n",
        "    \"Tomato_Early_blight\": [\"Nitrogen\", \"Phosphorus\", \"Potassium\"],\n",
        "    \"Tomato_Healthy\": [\"No fertilizer required\"],\n",
        "    \"Tomato_Late_blight\": [\"Nitrogen\", \"Phosphorus\", \"Potassium\"]\n",
        "}\n",
        "\n",
        "\n",
        "data = {\n",
        "    \"Apple_Apple_scab\": {\n",
        "        \"fertilizers\": [\"Bordeaux Mixture\", \"Sulfur-based fungicides\"],\n",
        "        \"Usage\": \"Apply as a foliar spray during dormant and growing\",\n",
        "        \"Working\": \"Controls fungal growth, prevents infection of apple scab pathogens\",\n",
        "        \"Effect\": \"Promotes healthy leaf and fruit development, reduces scab incidence\"\n",
        "    },\n",
        "    \"Apple_Black_rot\": {\n",
        "        \"fertilizers\": [\"Bordeaux Mixture\", \"Copper oxychloride\"],\n",
        "        \"Usage\": \"Apply as a foliar spray during dormant and growing\",\n",
        "        \"Working\": \"Controls fungal growth, prevents infection of black rot pathogens\",\n",
        "        \"Effect\": \"Promotes healthy fruit development, reduces rot incidence\"\n",
        "    },\n",
        "    \"Apple_Cedar_apple_rust\": {\n",
        "        \"fertilizers\": [\"Bordeaux Mixture\", \"Sulfur-based fungicides\"],\n",
        "        \"Usage\": \"Apply as a foliar spray during dormant and growing\",\n",
        "        \"Working\": \"Controls fungal growth, prevents infection of cedar apple rust fungi\",\n",
        "        \"Effect\": \"Promotes healthy leaf and fruit development, reduces rust incidence\"\n",
        "    },\n",
        "    \"Apple_Healthy\": {\n",
        "        \"fertilizers\": [\"No fertilizer required\"],\n",
        "        \"Usage\": \"No application required\",\n",
        "        \"Working\": \"No fungal infection present\",\n",
        "        \"Effect\": \"Maintains existing health\"\n",
        "    },\n",
        "    \"Corn_Cercospora_leaf_spot Gray_leaf_spot\": {\n",
        "        \"fertilizers\": [\"Trichoderma-based biofungicides\"],\n",
        "        \"Usage\": \"Apply as a foliar spray\",\n",
        "        \"Working\": \"Suppresses fungal growth, enhances plant's natural defense mechanisms\",\n",
        "        \"Effect\": \"Promotes healthy leaf development, reduces leaf spot incidence\"\n",
        "    },\n",
        "    \"Corn_Common_rust_\": {\n",
        "        \"fertilizers\": [\"Copper oxychloride-based fungicides\"],\n",
        "        \"Usage\": \"Apply as a foliar spray during growing season\",\n",
        "        \"Working\": \"Controls fungal growth, prevents infection of common rust pathogens\",\n",
        "        \"Effect\": \"Promotes healthy leaf development, reduces rust incidence\"\n",
        "    },\n",
        "    \"Corn_Healthy\": {\n",
        "        \"fertilizers\": [\"No fertilizer required\"],\n",
        "        \"Usage\": \"No application required\",\n",
        "        \"Working\": \"No fungal infection present\",\n",
        "        \"Effect\": \"Maintains existing health\"\n",
        "    },\n",
        "    \"Corn_Northern_Leaf_Blight\": {\n",
        "        \"fertilizers\": [\"Trichoderma-based biofungicides\"],\n",
        "        \"Usage\": \"Apply as a foliar spray\",\n",
        "        \"Working\": \"Suppresses fungal growth, enhances plant's natural defense mechanisms\",\n",
        "        \"Effect\": \"Promotes healthy leaf development, reduces blight incidence\"\n",
        "    },\n",
        "    \"Potato_Early_blight\": {\n",
        "        \"fertilizers\": [\"Bordeaux Mixture\", \"Copper oxychloride\"],\n",
        "        \"Usage\": \"Apply as a foliar spray during growing season\",\n",
        "        \"Working\": \"Controls fungal growth, prevents infection of early blight pathogens\",\n",
        "        \"Effect\": \"Promotes healthy foliage, reduces blight incidence\"\n",
        "    },\n",
        "    \"Potato_Healthy\": {\n",
        "        \"fertilizers\": [\"No fertilizer required\"],\n",
        "        \"Usage\": \"No application required\",\n",
        "        \"Working\": \"No fungal infection present\",\n",
        "        \"Effect\": \"Maintains existing health\"\n",
        "    },\n",
        "    \"Potato_Late_blight\": {\n",
        "        \"fertilizers\": [\"Bordeaux Mixture\", \"Mancozeb-based fungicides\"],\n",
        "        \"Usage\": \"Apply as a foliar spray during growing season\",\n",
        "        \"Working\": \"Controls fungal growth, prevents infection of late blight pathogens\",\n",
        "        \"Effect\": \"Promotes healthy foliage, reduces blight incidence\"\n",
        "    },\n",
        "    \"Tomato_Bacterial_spot\": {\n",
        "        \"fertilizers\": [\"Copper oxychloride-based bactericides\"],\n",
        "        \"Usage\": \"Apply as a foliar spray during growing season\",\n",
        "        \"Working\": \"Controls bacterial growth, prevents infection of bacterial spot pathogens\",\n",
        "        \"Effect\": \"Promotes healthy foliage, reduces spot incidence\"\n",
        "    },\n",
        "    \"Tomato_Early_blight\": {\n",
        "        \"fertilizers\": [\"Copper oxychloride-based fungicides\"],\n",
        "        \"Usage\": \"Apply as a foliar spray during growing season\",\n",
        "        \"Working\": \"Controls fungal growth, prevents infection of early blight pathogens\",\n",
        "        \"Effect\": \"Promotes healthy foliage, reduces blight incidence\"\n",
        "    },\n",
        "    \"Tomato_Healthy\": {\n",
        "        \"fertilizers\": [\"No fertilizer required\"],\n",
        "        \"Usage\": \"No application required\",\n",
        "        \"Working\": \"No fungal infection present\",\n",
        "        \"Effect\": \"Maintains existing health\"\n",
        "    },\n",
        "    \"Tomato_Late_blight\":{\n",
        "        \"fertilizers\": [\"Bordeaux Mixture\"],\n",
        "        \"Usage\": \"Apply as a foliar spray during growing season\",\n",
        "        \"Working\": \"Controls fungal growth, prevents infection of late blight pathogens\",\n",
        "        \"Effect\": \"Promotes healthy foliage, reduces blight incidence\"\n",
        "    }\n",
        "}\n",
        "\n",
        "\n",
        "def preprocess_image(image):\n",
        "    size = (224, 224)\n",
        "    image = ImageOps.fit(image, size, Image.Resampling.LANCZOS)\n",
        "    image_array = np.asarray(image)\n",
        "    normalized_image_array = (image_array.astype(np.float32) / 127.5) - 1\n",
        "    data = np.ndarray(shape=(1, 224, 224, 3), dtype=np.float32)\n",
        "    data[0] = normalized_image_array\n",
        "    return data\n",
        "\n",
        "# Set the ngrok authtoken\n",
        "ngrok.set_auth_token(\"2fE5fUkgIgLzY8HyybnPnQtsk1j_5ZTby6XSdqhXWCktTquwD\")\n",
        "public_url=ngrok.connect(port_no).public_url\n",
        "\n",
        "# Home page\n",
        "@app.route('/')\n",
        "def home():\n",
        "    return render_template('index.html')\n",
        "\n",
        "# Prediction page\n",
        "@app.route('/predict', methods=['POST'])\n",
        "def predict():\n",
        "    if 'file' not in request.files:\n",
        "        return \"No file part\"\n",
        "\n",
        "    file = request.files['file']\n",
        "    if file.filename == '':\n",
        "        return \"No selected file\"\n",
        "\n",
        "    if file:\n",
        "        image = Image.open(file).convert(\"RGB\")\n",
        "        processed_image = preprocess_image(image)\n",
        "\n",
        "        # Predicts the model\n",
        "        prediction = model.predict(processed_image)\n",
        "        index = np.argmax(prediction)\n",
        "        # class_name = class_names[index][2:]\n",
        "        class_name = class_names[index][2:].lstrip().rstrip()\n",
        "        confidence_score = prediction[0][index]\n",
        "\n",
        "        return render_template('result.html', class_name=class_name, confidence_score=confidence_score, fertilizers=fertilizer_contents, data=data)\n",
        "\n",
        "\n",
        "# Run the Flask app\n",
        "print(f\"Click here to access global link: {public_url}\")\n",
        "app.run(port=port_no)"
      ],
      "metadata": {
        "colab": {
          "base_uri": "https://localhost:8080/"
        },
        "id": "vXu6kjD2gr9h",
        "outputId": "db46f58d-9631-43ff-b576-44e9e86d0e34"
      },
      "execution_count": 30,
      "outputs": [
        {
          "output_type": "stream",
          "name": "stdout",
          "text": [
            "Click here to access global link: https://cbf5-34-16-166-116.ngrok-free.app\n",
            " * Serving Flask app '__main__'\n",
            " * Debug mode: off\n"
          ]
        },
        {
          "output_type": "stream",
          "name": "stderr",
          "text": [
            "INFO:werkzeug:\u001b[31m\u001b[1mWARNING: This is a development server. Do not use it in a production deployment. Use a production WSGI server instead.\u001b[0m\n",
            " * Running on http://127.0.0.1:5000\n",
            "INFO:werkzeug:\u001b[33mPress CTRL+C to quit\u001b[0m\n",
            "INFO:werkzeug:127.0.0.1 - - [19/Apr/2024 23:15:33] \"GET / HTTP/1.1\" 200 -\n",
            "INFO:werkzeug:127.0.0.1 - - [19/Apr/2024 23:15:35] \"\u001b[33mGET /favicon.ico HTTP/1.1\u001b[0m\" 404 -\n"
          ]
        },
        {
          "output_type": "stream",
          "name": "stdout",
          "text": [
            "1/1 [==============================] - 1s 732ms/step\n"
          ]
        },
        {
          "output_type": "stream",
          "name": "stderr",
          "text": [
            "INFO:werkzeug:127.0.0.1 - - [19/Apr/2024 23:15:44] \"POST /predict HTTP/1.1\" 200 -\n"
          ]
        }
      ]
    },
    {
      "cell_type": "code",
      "source": [
        "ngrok.kill()"
      ],
      "metadata": {
        "id": "y0Eo9YnqgzIj"
      },
      "execution_count": 32,
      "outputs": []
    }
  ]
}